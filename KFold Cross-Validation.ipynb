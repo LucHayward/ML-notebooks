{
 "cells": [
  {
   "cell_type": "markdown",
   "metadata": {},
   "source": [
    "# KFold Cross-Validation\n",
    "[A Gentle Introduction to k-fold Cross-Validation](https://machinelearningmastery.com/k-fold-cross-validation/)\n",
    "\n",
    "Can use the sklearn api to implement quick cross validation splits based on index.\n"
   ]
  },
  {
   "cell_type": "code",
   "execution_count": 3,
   "metadata": {},
   "outputs": [],
   "source": [
    "import numpy as np\n",
    "from sklearn.model_selection import KFold\n"
   ]
  },
  {
   "cell_type": "code",
   "execution_count": 11,
   "metadata": {},
   "outputs": [],
   "source": [
    "data = np.array([0.1, 0.2, 0.3, 0.4, 0.5, 0.6])\n",
    "kfold = KFold(3, shuffle=True, random_state=1)\n",
    "kfold = KFold(3, shuffle=False)"
   ]
  },
  {
   "cell_type": "code",
   "execution_count": 14,
   "metadata": {},
   "outputs": [
    {
     "name": "stdout",
     "output_type": "stream",
     "text": [
      "train: [0.3 0.4 0.5 0.6], test: [0.1  0.02]\n",
      "train: [0.1  0.02 0.5  0.6 ], test: [0.3 0.4]\n",
      "train: [0.1  0.02 0.3  0.4 ], test: [0.5 0.6]\n"
     ]
    }
   ],
   "source": [
    "for train,test in kfold.split(data):\n",
    "    print(f'train: {data[train]}, test: {data[test]}')"
   ]
  },
  {
   "cell_type": "markdown",
   "metadata": {},
   "source": [
    "## [Cross-Validation in PyTorch](https://www.machinecurve.com/index.php/2021/02/03/how-to-use-k-fold-cross-validation-with-pytorch/#implementing-k-fold-cross-validation-with-pytorch)\n",
    "\n",
    "\n"
   ]
  },
  {
   "cell_type": "code",
   "execution_count": 3,
   "metadata": {},
   "outputs": [],
   "source": [
    "import os\n",
    "import torch\n",
    "from torch import nn\n",
    "from torchvision.datasets import MNIST\n",
    "from torch.utils.data import DataLoader, ConcatDataset\n",
    "from torchvision import transforms\n",
    "from sklearn.model_selection import KFold"
   ]
  },
  {
   "cell_type": "markdown",
   "metadata": {},
   "source": [
    "### Define a simple CNN\n"
   ]
  },
  {
   "cell_type": "code",
   "execution_count": 15,
   "metadata": {},
   "outputs": [],
   "source": [
    "def reset_weights(m):\n",
    "    '''Try resetting model weights to avoid weight leakage'''\n",
    "    for layer in m.children():\n",
    "        if hasattr(layer, 'reset_parameters'):\n",
    "            print(f'Resent trainable parameters of layer = {layer}')\n",
    "            layer.reset_parameters()\n",
    "\n",
    "class SimpleConvNet(nn.Module):\n",
    "    '''Simple Convolutional Neural Network'''\n",
    "    def __init__(self):\n",
    "        super().__init__()\n",
    "        self.layers = nn.Sequential(\n",
    "            nn.Conv2d(1,10,kernel_size=3),\n",
    "            nn.ReLU(),\n",
    "            nn.Flatten(),\n",
    "            nn.Linear(26 * 26 * 10, 50),\n",
    "            nn.ReLU(),\n",
    "            nn.Linear(50,20),\n",
    "            nn.ReLU(),\n",
    "            nn.Linear(20,10)\n",
    "        )\n",
    "\n",
    "    def forward(self, x):\n",
    "        '''Forward pass'''\n",
    "        return self.layers(x)"
   ]
  },
  {
   "cell_type": "code",
   "execution_count": 8,
   "metadata": {},
   "outputs": [
    {
     "data": {
      "text/plain": [
       "<torch._C.Generator at 0x7fb6a80f3370>"
      ]
     },
     "execution_count": 8,
     "metadata": {},
     "output_type": "execute_result"
    }
   ],
   "source": [
    "k_folds = 5\n",
    "num_epochs = 1\n",
    "loss_function = nn.CrossEntropyLoss()\n",
    "\n",
    "results = {}\n",
    "\n",
    "torch.manual_seed(42)"
   ]
  },
  {
   "cell_type": "code",
   "execution_count": 10,
   "metadata": {},
   "outputs": [
    {
     "name": "stdout",
     "output_type": "stream",
     "text": [
      "Downloading http://yann.lecun.com/exdb/mnist/train-images-idx3-ubyte.gz\n"
     ]
    },
    {
     "name": "stderr",
     "output_type": "stream",
     "text": [
      "3.0%"
     ]
    },
    {
     "name": "stdout",
     "output_type": "stream",
     "text": [
      "Downloading http://yann.lecun.com/exdb/mnist/train-images-idx3-ubyte.gz to /home/luc/MNIST/raw/train-images-idx3-ubyte.gz\n"
     ]
    },
    {
     "name": "stderr",
     "output_type": "stream",
     "text": [
      "31.0%IOPub message rate exceeded.\n",
      "The notebook server will temporarily stop sending output\n",
      "to the client in order to avoid crashing it.\n",
      "To change this limit, set the config variable\n",
      "`--NotebookApp.iopub_msg_rate_limit`.\n",
      "\n",
      "Current values:\n",
      "NotebookApp.iopub_msg_rate_limit=1000.0 (msgs/sec)\n",
      "NotebookApp.rate_limit_window=3.0 (secs)\n",
      "\n",
      "73.7%IOPub message rate exceeded.\n",
      "The notebook server will temporarily stop sending output\n",
      "to the client in order to avoid crashing it.\n",
      "To change this limit, set the config variable\n",
      "`--NotebookApp.iopub_msg_rate_limit`.\n",
      "\n",
      "Current values:\n",
      "NotebookApp.iopub_msg_rate_limit=1000.0 (msgs/sec)\n",
      "NotebookApp.rate_limit_window=3.0 (secs)\n",
      "\n",
      "100.0%\n"
     ]
    },
    {
     "name": "stdout",
     "output_type": "stream",
     "text": [
      "Extracting /home/luc/MNIST/raw/train-images-idx3-ubyte.gz to /home/luc/MNIST/raw\n"
     ]
    },
    {
     "name": "stderr",
     "output_type": "stream",
     "text": [
      "102.8%\n",
      "17.1%"
     ]
    },
    {
     "name": "stdout",
     "output_type": "stream",
     "text": [
      "\n",
      "Downloading http://yann.lecun.com/exdb/mnist/train-labels-idx1-ubyte.gz\n",
      "Downloading http://yann.lecun.com/exdb/mnist/train-labels-idx1-ubyte.gz to /home/luc/MNIST/raw/train-labels-idx1-ubyte.gz\n",
      "Extracting /home/luc/MNIST/raw/train-labels-idx1-ubyte.gz to /home/luc/MNIST/raw\n",
      "\n",
      "Downloading http://yann.lecun.com/exdb/mnist/t10k-images-idx3-ubyte.gz\n",
      "Downloading http://yann.lecun.com/exdb/mnist/t10k-images-idx3-ubyte.gz to /home/luc/MNIST/raw/t10k-images-idx3-ubyte.gz\n"
     ]
    },
    {
     "name": "stderr",
     "output_type": "stream",
     "text": [
      "100.0%\n",
      "112.7%\n"
     ]
    },
    {
     "name": "stdout",
     "output_type": "stream",
     "text": [
      "Extracting /home/luc/MNIST/raw/t10k-images-idx3-ubyte.gz to /home/luc/MNIST/raw\n",
      "\n",
      "Downloading http://yann.lecun.com/exdb/mnist/t10k-labels-idx1-ubyte.gz\n",
      "Downloading http://yann.lecun.com/exdb/mnist/t10k-labels-idx1-ubyte.gz to /home/luc/MNIST/raw/t10k-labels-idx1-ubyte.gz\n",
      "Extracting /home/luc/MNIST/raw/t10k-labels-idx1-ubyte.gz to /home/luc/MNIST/raw\n",
      "\n"
     ]
    }
   ],
   "source": [
    "# Prepare MNIST dataset by concatenating Train/Test part; we split later.\n",
    "dataset_train_part = MNIST(os.getcwd(), download=True, transform=transforms.ToTensor(), train=True)\n",
    "dataset_test_part = MNIST(os.getcwd(), download=True, transform=transforms.ToTensor(), train=False)\n",
    "dataset = ConcatDataset([dataset_train_part, dataset_test_part])"
   ]
  },
  {
   "cell_type": "code",
   "execution_count": 12,
   "metadata": {},
   "outputs": [
    {
     "name": "stdout",
     "output_type": "stream",
     "text": [
      "--------------------------------\n"
     ]
    }
   ],
   "source": [
    "# Define the K-fold Cross Validator\n",
    "kfold = KFold(n_splits=k_folds, shuffle=True)\n",
    "\n",
    "# Start print\n",
    "print('--------------------------------')"
   ]
  },
  {
   "cell_type": "markdown",
   "metadata": {},
   "source": [
    "Everything in this next section is the same as normal except for the inclusion of a subset sampler that only draws from a subset of idxs from the entire dataset."
   ]
  },
  {
   "cell_type": "code",
   "execution_count": 16,
   "metadata": {},
   "outputs": [
    {
     "name": "stdout",
     "output_type": "stream",
     "text": [
      "FOLD 0\n",
      "--------------------------------\n",
      "Starting epoch 1\n",
      "Loss after mini-batch   500: 1.832\n",
      "Loss after mini-batch  1000: 0.865\n",
      "Loss after mini-batch  1500: 0.540\n",
      "Loss after mini-batch  2000: 0.474\n",
      "Loss after mini-batch  2500: 0.413\n",
      "Loss after mini-batch  3000: 0.399\n",
      "Loss after mini-batch  3500: 0.357\n",
      "Loss after mini-batch  4000: 0.321\n",
      "Loss after mini-batch  4500: 0.329\n",
      "Loss after mini-batch  5000: 0.308\n",
      "Loss after mini-batch  5500: 0.304\n",
      "Training process has finished. Saving trained model.\n",
      "FOLD 1\n",
      "--------------------------------\n",
      "Starting epoch 1\n",
      "Loss after mini-batch   500: 1.841\n",
      "Loss after mini-batch  1000: 0.802\n",
      "Loss after mini-batch  1500: 0.513\n",
      "Loss after mini-batch  2000: 0.425\n",
      "Loss after mini-batch  2500: 0.391\n",
      "Loss after mini-batch  3000: 0.359\n",
      "Loss after mini-batch  3500: 0.316\n",
      "Loss after mini-batch  4000: 0.344\n",
      "Loss after mini-batch  4500: 0.336\n",
      "Loss after mini-batch  5000: 0.308\n",
      "Loss after mini-batch  5500: 0.319\n",
      "Training process has finished. Saving trained model.\n",
      "FOLD 2\n",
      "--------------------------------\n",
      "Starting epoch 1\n",
      "Loss after mini-batch   500: 1.836\n",
      "Loss after mini-batch  1000: 0.843\n",
      "Loss after mini-batch  1500: 0.528\n",
      "Loss after mini-batch  2000: 0.429\n",
      "Loss after mini-batch  2500: 0.428\n",
      "Loss after mini-batch  3000: 0.366\n",
      "Loss after mini-batch  3500: 0.373\n",
      "Loss after mini-batch  4000: 0.334\n",
      "Loss after mini-batch  4500: 0.312\n",
      "Loss after mini-batch  5000: 0.282\n",
      "Loss after mini-batch  5500: 0.284\n",
      "Training process has finished. Saving trained model.\n",
      "FOLD 3\n",
      "--------------------------------\n",
      "Starting epoch 1\n",
      "Loss after mini-batch   500: 1.748\n",
      "Loss after mini-batch  1000: 0.822\n",
      "Loss after mini-batch  1500: 0.558\n",
      "Loss after mini-batch  2000: 0.479\n",
      "Loss after mini-batch  2500: 0.416\n",
      "Loss after mini-batch  3000: 0.402\n",
      "Loss after mini-batch  3500: 0.367\n",
      "Loss after mini-batch  4000: 0.316\n",
      "Loss after mini-batch  4500: 0.304\n",
      "Loss after mini-batch  5000: 0.302\n",
      "Loss after mini-batch  5500: 0.283\n",
      "Training process has finished. Saving trained model.\n",
      "FOLD 4\n",
      "--------------------------------\n",
      "Starting epoch 1\n",
      "Loss after mini-batch   500: 1.985\n",
      "Loss after mini-batch  1000: 1.093\n",
      "Loss after mini-batch  1500: 0.602\n",
      "Loss after mini-batch  2000: 0.476\n",
      "Loss after mini-batch  2500: 0.412\n",
      "Loss after mini-batch  3000: 0.370\n",
      "Loss after mini-batch  3500: 0.371\n",
      "Loss after mini-batch  4000: 0.354\n",
      "Loss after mini-batch  4500: 0.319\n",
      "Loss after mini-batch  5000: 0.312\n",
      "Loss after mini-batch  5500: 0.303\n",
      "Training process has finished. Saving trained model.\n"
     ]
    }
   ],
   "source": [
    "# K-fold Cross Validation model evaluation\n",
    "for fold, (train_ids, test_ids) in enumerate(kfold.split(dataset)):\n",
    "    print(f'FOLD {fold}')\n",
    "    print('--------------------------------')\n",
    "\n",
    "    # Sample elements randomly from a given list of ids, no replacement.\n",
    "    # The SubsetRandomSampler samples from the idxs without replacement\n",
    "    train_subsampler = torch.utils.data.SubsetRandomSampler(train_ids)\n",
    "    test_subsampler = torch.utils.data.SubsetRandomSampler(test_ids)\n",
    "    \n",
    "    # Define data loaders for training and testing data in this fold\n",
    "    trainloader = torch.utils.data.DataLoader(\n",
    "                      dataset, \n",
    "                      batch_size=10, sampler=train_subsampler)\n",
    "    testloader = torch.utils.data.DataLoader(\n",
    "                      dataset,\n",
    "                      batch_size=10, sampler=test_subsampler)\n",
    "    \n",
    "    # Init the neural network\n",
    "    network = SimpleConvNet()\n",
    "    \n",
    "    # Initialize optimizer\n",
    "    optimizer = torch.optim.Adam(network.parameters(), lr=1e-4)\n",
    "    \n",
    "    # Run the training loop for defined number of epochs\n",
    "    for epoch in range(0, num_epochs):\n",
    "\n",
    "      # Print epoch\n",
    "      print(f'Starting epoch {epoch+1}')\n",
    "\n",
    "      # Set current loss value\n",
    "      current_loss = 0.0\n",
    "\n",
    "      # Iterate over the DataLoader for training data\n",
    "      for i, data in enumerate(trainloader, 0):\n",
    "        \n",
    "        # Get inputs\n",
    "        inputs, targets = data\n",
    "        \n",
    "        # Zero the gradients\n",
    "        optimizer.zero_grad()\n",
    "        \n",
    "        # Perform forward pass\n",
    "        outputs = network(inputs)\n",
    "        \n",
    "        # Compute loss\n",
    "        loss = loss_function(outputs, targets)\n",
    "        \n",
    "        # Perform backward pass\n",
    "        loss.backward()\n",
    "        \n",
    "        # Perform optimization\n",
    "        optimizer.step()\n",
    "        \n",
    "        # Print statistics\n",
    "        current_loss += loss.item()\n",
    "        if i % 500 == 499:\n",
    "            print('Loss after mini-batch %5d: %.3f' %\n",
    "                  (i + 1, current_loss / 500))\n",
    "            current_loss = 0.0\n",
    "            \n",
    "    # Process is complete.\n",
    "    print('Training process has finished. Saving trained model.')"
   ]
  },
  {
   "cell_type": "code",
   "execution_count": null,
   "metadata": {},
   "outputs": [],
   "source": []
  }
 ],
 "metadata": {
  "interpreter": {
   "hash": "30b2d88519b42e2b1be5e12579ff4b114f9834f469b31be7f82137c9c3522cd2"
  },
  "kernelspec": {
   "display_name": "Python 3.9.7 64-bit ('Testing': conda)",
   "name": "python3"
  },
  "language_info": {
   "codemirror_mode": {
    "name": "ipython",
    "version": 3
   },
   "file_extension": ".py",
   "mimetype": "text/x-python",
   "name": "python",
   "nbconvert_exporter": "python",
   "pygments_lexer": "ipython3",
   "version": "3.9.7"
  },
  "orig_nbformat": 4
 },
 "nbformat": 4,
 "nbformat_minor": 2
}
