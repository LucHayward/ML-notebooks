{
 "cells": [
  {
   "cell_type": "markdown",
   "metadata": {},
   "source": [
    "# PyTorch 60 minute blitz\n",
    "\n",
    "## Tensors\n",
    "See [Pytorch learning the basics](PyTorch Learn the Basics.ipynb#Tensors)\n"
   ]
  }
 ],
 "metadata": {
  "language_info": {
   "name": "python"
  },
  "orig_nbformat": 4
 },
 "nbformat": 4,
 "nbformat_minor": 2
}
